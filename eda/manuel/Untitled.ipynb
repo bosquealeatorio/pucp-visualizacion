{
 "cells": [
  {
   "cell_type": "code",
   "execution_count": 1,
   "metadata": {},
   "outputs": [],
   "source": [
    "import os"
   ]
  },
  {
   "cell_type": "markdown",
   "metadata": {},
   "source": [
    "https://covid-seguimiento.amigocloud.com/?fbclid=IwAR1hXSAbhc2yrAnUL_EPd4NYJSC5cN0qRLSaBM7IwyuXglj899cyS7-b2yk"
   ]
  },
  {
   "cell_type": "code",
   "execution_count": 2,
   "metadata": {},
   "outputs": [
    {
     "data": {
      "text/plain": [
       "['.DS_Store',\n",
       " 'earthquakes-2021-01-19_21-44-08_-0500.tsv',\n",
       " 'Untitled.ipynb',\n",
       " '.ipynb_checkpoints',\n",
       " 'TP 1 - Data recovery-20201114']"
      ]
     },
     "execution_count": 2,
     "metadata": {},
     "output_type": "execute_result"
    }
   ],
   "source": [
    "os.listdir()"
   ]
  },
  {
   "cell_type": "code",
   "execution_count": 3,
   "metadata": {},
   "outputs": [],
   "source": [
    "import pandas"
   ]
  },
  {
   "cell_type": "code",
   "execution_count": 4,
   "metadata": {},
   "outputs": [
    {
     "data": {
      "text/plain": [
       "(6217, 39)"
      ]
     },
     "execution_count": 4,
     "metadata": {},
     "output_type": "execute_result"
    }
   ],
   "source": [
    "df = pandas.read_csv('earthquakes-2021-01-19_21-44-08_-0500.tsv', sep = '\\t')\n",
    "df.shape"
   ]
  },
  {
   "cell_type": "code",
   "execution_count": 5,
   "metadata": {},
   "outputs": [
    {
     "data": {
      "text/html": [
       "<div>\n",
       "<style scoped>\n",
       "    .dataframe tbody tr th:only-of-type {\n",
       "        vertical-align: middle;\n",
       "    }\n",
       "\n",
       "    .dataframe tbody tr th {\n",
       "        vertical-align: top;\n",
       "    }\n",
       "\n",
       "    .dataframe thead th {\n",
       "        text-align: right;\n",
       "    }\n",
       "</style>\n",
       "<table border=\"1\" class=\"dataframe\">\n",
       "  <thead>\n",
       "    <tr style=\"text-align: right;\">\n",
       "      <th></th>\n",
       "      <th>Search Parameters</th>\n",
       "      <th>Year</th>\n",
       "      <th>Mo</th>\n",
       "      <th>Dy</th>\n",
       "      <th>Hr</th>\n",
       "      <th>Mn</th>\n",
       "      <th>Sec</th>\n",
       "      <th>Tsu</th>\n",
       "      <th>Vol</th>\n",
       "      <th>Location Name</th>\n",
       "      <th>...</th>\n",
       "      <th>Total Missing</th>\n",
       "      <th>Total Missing Description</th>\n",
       "      <th>Total Injuries</th>\n",
       "      <th>Total Injuries Description</th>\n",
       "      <th>Total Damage ($Mil)</th>\n",
       "      <th>Total Damage Description</th>\n",
       "      <th>Total Houses Destroyed</th>\n",
       "      <th>Total Houses Destroyed Description</th>\n",
       "      <th>Total Houses Damaged</th>\n",
       "      <th>Total Houses Damaged Description</th>\n",
       "    </tr>\n",
       "  </thead>\n",
       "  <tbody>\n",
       "    <tr>\n",
       "      <th>0</th>\n",
       "      <td>[]</td>\n",
       "      <td>NaN</td>\n",
       "      <td>NaN</td>\n",
       "      <td>NaN</td>\n",
       "      <td>NaN</td>\n",
       "      <td>NaN</td>\n",
       "      <td>NaN</td>\n",
       "      <td>NaN</td>\n",
       "      <td>NaN</td>\n",
       "      <td>NaN</td>\n",
       "      <td>...</td>\n",
       "      <td>NaN</td>\n",
       "      <td>NaN</td>\n",
       "      <td>NaN</td>\n",
       "      <td>NaN</td>\n",
       "      <td>NaN</td>\n",
       "      <td>NaN</td>\n",
       "      <td>NaN</td>\n",
       "      <td>NaN</td>\n",
       "      <td>NaN</td>\n",
       "      <td>NaN</td>\n",
       "    </tr>\n",
       "    <tr>\n",
       "      <th>1</th>\n",
       "      <td>NaN</td>\n",
       "      <td>-2150.0</td>\n",
       "      <td>NaN</td>\n",
       "      <td>NaN</td>\n",
       "      <td>NaN</td>\n",
       "      <td>NaN</td>\n",
       "      <td>0.0</td>\n",
       "      <td>NaN</td>\n",
       "      <td>NaN</td>\n",
       "      <td>JORDAN:  BAB-A-DARAA,AL-KARAK</td>\n",
       "      <td>...</td>\n",
       "      <td>NaN</td>\n",
       "      <td>NaN</td>\n",
       "      <td>NaN</td>\n",
       "      <td>NaN</td>\n",
       "      <td>NaN</td>\n",
       "      <td>NaN</td>\n",
       "      <td>NaN</td>\n",
       "      <td>NaN</td>\n",
       "      <td>NaN</td>\n",
       "      <td>NaN</td>\n",
       "    </tr>\n",
       "    <tr>\n",
       "      <th>2</th>\n",
       "      <td>NaN</td>\n",
       "      <td>-2000.0</td>\n",
       "      <td>NaN</td>\n",
       "      <td>NaN</td>\n",
       "      <td>NaN</td>\n",
       "      <td>NaN</td>\n",
       "      <td>NaN</td>\n",
       "      <td>1.0</td>\n",
       "      <td>NaN</td>\n",
       "      <td>SYRIA:  UGARIT</td>\n",
       "      <td>...</td>\n",
       "      <td>NaN</td>\n",
       "      <td>NaN</td>\n",
       "      <td>NaN</td>\n",
       "      <td>NaN</td>\n",
       "      <td>NaN</td>\n",
       "      <td>NaN</td>\n",
       "      <td>NaN</td>\n",
       "      <td>NaN</td>\n",
       "      <td>NaN</td>\n",
       "      <td>NaN</td>\n",
       "    </tr>\n",
       "    <tr>\n",
       "      <th>3</th>\n",
       "      <td>NaN</td>\n",
       "      <td>-2000.0</td>\n",
       "      <td>NaN</td>\n",
       "      <td>NaN</td>\n",
       "      <td>NaN</td>\n",
       "      <td>NaN</td>\n",
       "      <td>NaN</td>\n",
       "      <td>NaN</td>\n",
       "      <td>NaN</td>\n",
       "      <td>TURKMENISTAN:  W</td>\n",
       "      <td>...</td>\n",
       "      <td>NaN</td>\n",
       "      <td>NaN</td>\n",
       "      <td>NaN</td>\n",
       "      <td>NaN</td>\n",
       "      <td>NaN</td>\n",
       "      <td>1.0</td>\n",
       "      <td>NaN</td>\n",
       "      <td>1.0</td>\n",
       "      <td>NaN</td>\n",
       "      <td>NaN</td>\n",
       "    </tr>\n",
       "    <tr>\n",
       "      <th>4</th>\n",
       "      <td>NaN</td>\n",
       "      <td>-1610.0</td>\n",
       "      <td>NaN</td>\n",
       "      <td>NaN</td>\n",
       "      <td>NaN</td>\n",
       "      <td>NaN</td>\n",
       "      <td>NaN</td>\n",
       "      <td>3.0</td>\n",
       "      <td>1351.0</td>\n",
       "      <td>GREECE:  THERA ISLAND (SANTORINI)</td>\n",
       "      <td>...</td>\n",
       "      <td>NaN</td>\n",
       "      <td>NaN</td>\n",
       "      <td>NaN</td>\n",
       "      <td>NaN</td>\n",
       "      <td>NaN</td>\n",
       "      <td>3.0</td>\n",
       "      <td>NaN</td>\n",
       "      <td>NaN</td>\n",
       "      <td>NaN</td>\n",
       "      <td>NaN</td>\n",
       "    </tr>\n",
       "  </tbody>\n",
       "</table>\n",
       "<p>5 rows × 39 columns</p>\n",
       "</div>"
      ],
      "text/plain": [
       "  Search Parameters    Year  Mo  Dy  Hr  Mn  Sec  Tsu     Vol  \\\n",
       "0                []     NaN NaN NaN NaN NaN  NaN  NaN     NaN   \n",
       "1               NaN -2150.0 NaN NaN NaN NaN  0.0  NaN     NaN   \n",
       "2               NaN -2000.0 NaN NaN NaN NaN  NaN  1.0     NaN   \n",
       "3               NaN -2000.0 NaN NaN NaN NaN  NaN  NaN     NaN   \n",
       "4               NaN -1610.0 NaN NaN NaN NaN  NaN  3.0  1351.0   \n",
       "\n",
       "                       Location Name  ...  Total Missing  \\\n",
       "0                                NaN  ...            NaN   \n",
       "1      JORDAN:  BAB-A-DARAA,AL-KARAK  ...            NaN   \n",
       "2                     SYRIA:  UGARIT  ...            NaN   \n",
       "3                   TURKMENISTAN:  W  ...            NaN   \n",
       "4  GREECE:  THERA ISLAND (SANTORINI)  ...            NaN   \n",
       "\n",
       "   Total Missing Description  Total Injuries  Total Injuries Description  \\\n",
       "0                        NaN             NaN                         NaN   \n",
       "1                        NaN             NaN                         NaN   \n",
       "2                        NaN             NaN                         NaN   \n",
       "3                        NaN             NaN                         NaN   \n",
       "4                        NaN             NaN                         NaN   \n",
       "\n",
       "   Total Damage ($Mil)  Total Damage Description  Total Houses Destroyed  \\\n",
       "0                  NaN                       NaN                     NaN   \n",
       "1                  NaN                       NaN                     NaN   \n",
       "2                  NaN                       NaN                     NaN   \n",
       "3                  NaN                       1.0                     NaN   \n",
       "4                  NaN                       3.0                     NaN   \n",
       "\n",
       "   Total Houses Destroyed Description  Total Houses Damaged  \\\n",
       "0                                 NaN                   NaN   \n",
       "1                                 NaN                   NaN   \n",
       "2                                 NaN                   NaN   \n",
       "3                                 1.0                   NaN   \n",
       "4                                 NaN                   NaN   \n",
       "\n",
       "   Total Houses Damaged Description  \n",
       "0                               NaN  \n",
       "1                               NaN  \n",
       "2                               NaN  \n",
       "3                               NaN  \n",
       "4                               NaN  \n",
       "\n",
       "[5 rows x 39 columns]"
      ]
     },
     "execution_count": 5,
     "metadata": {},
     "output_type": "execute_result"
    }
   ],
   "source": [
    "df.head()"
   ]
  },
  {
   "cell_type": "code",
   "execution_count": 6,
   "metadata": {},
   "outputs": [
    {
     "data": {
      "text/plain": [
       "Index(['Search Parameters', 'Year', 'Mo', 'Dy', 'Hr', 'Mn', 'Sec', 'Tsu',\n",
       "       'Vol', 'Location Name', 'Latitude', 'Longitude', 'Focal Depth (km)',\n",
       "       'Mag', 'MMI Int', 'Deaths', 'Death Description', 'Missing',\n",
       "       'Missing Description', 'Injuries', 'Injuries Description',\n",
       "       'Damage ($Mil)', 'Damage Description', 'Houses Destroyed',\n",
       "       'Houses Destroyed Description', 'Houses Damaged',\n",
       "       'Houses Damaged Description', 'Total Deaths', 'Total Death Description',\n",
       "       'Total Missing', 'Total Missing Description', 'Total Injuries',\n",
       "       'Total Injuries Description', 'Total Damage ($Mil)',\n",
       "       'Total Damage Description', 'Total Houses Destroyed',\n",
       "       'Total Houses Destroyed Description', 'Total Houses Damaged',\n",
       "       'Total Houses Damaged Description'],\n",
       "      dtype='object')"
      ]
     },
     "execution_count": 6,
     "metadata": {},
     "output_type": "execute_result"
    }
   ],
   "source": [
    "df.columns"
   ]
  },
  {
   "cell_type": "markdown",
   "metadata": {},
   "source": [
    "Grafico de barras de cantidad de registros por decada"
   ]
  },
  {
   "cell_type": "code",
   "execution_count": null,
   "metadata": {},
   "outputs": [],
   "source": [
    "-> 1900 en adelante"
   ]
  },
  {
   "cell_type": "code",
   "execution_count": null,
   "metadata": {},
   "outputs": [],
   "source": []
  },
  {
   "cell_type": "markdown",
   "metadata": {},
   "source": [
    "Cruzar con indicadores de país: pbi +"
   ]
  },
  {
   "cell_type": "code",
   "execution_count": null,
   "metadata": {},
   "outputs": [],
   "source": []
  },
  {
   "cell_type": "code",
   "execution_count": 8,
   "metadata": {},
   "outputs": [
    {
     "data": {
      "text/plain": [
       "(3724, 39)"
      ]
     },
     "execution_count": 8,
     "metadata": {},
     "output_type": "execute_result"
    }
   ],
   "source": [
    "df.query('Year > 1900').shape"
   ]
  },
  {
   "cell_type": "code",
   "execution_count": null,
   "metadata": {},
   "outputs": [],
   "source": []
  }
 ],
 "metadata": {
  "kernelspec": {
   "display_name": "iapucp",
   "language": "python",
   "name": "iapucp"
  },
  "language_info": {
   "codemirror_mode": {
    "name": "ipython",
    "version": 3
   },
   "file_extension": ".py",
   "mimetype": "text/x-python",
   "name": "python",
   "nbconvert_exporter": "python",
   "pygments_lexer": "ipython3",
   "version": "3.6.12"
  }
 },
 "nbformat": 4,
 "nbformat_minor": 4
}
