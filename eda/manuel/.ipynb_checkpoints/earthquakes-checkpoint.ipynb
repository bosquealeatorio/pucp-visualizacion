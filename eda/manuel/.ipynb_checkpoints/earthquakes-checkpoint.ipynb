{
 "cells": [
  {
   "cell_type": "markdown",
   "metadata": {},
   "source": [
    "## Exploratory Analysis"
   ]
  },
  {
   "cell_type": "code",
   "execution_count": 87,
   "metadata": {},
   "outputs": [
    {
     "data": {
      "text/plain": [
       "['earthquakes-2021-01-19_21-44-08_-0500.tsv',\n",
       " 'earthquakes.ipynb',\n",
       " '.ipynb_checkpoints']"
      ]
     },
     "execution_count": 87,
     "metadata": {},
     "output_type": "execute_result"
    }
   ],
   "source": [
    "import os\n",
    "os.listdir()"
   ]
  },
  {
   "cell_type": "markdown",
   "metadata": {},
   "source": [
    "https://covid-seguimiento.amigocloud.com/?fbclid=IwAR1hXSAbhc2yrAnUL_EPd4NYJSC5cN0qRLSaBM7IwyuXglj899cyS7-b2yk"
   ]
  },
  {
   "cell_type": "code",
   "execution_count": 107,
   "metadata": {},
   "outputs": [],
   "source": [
    "import pandas as pd\n",
    "import numpy as np\n",
    "import seaborn\n",
    "import matplotlib.pyplot as plt"
   ]
  },
  {
   "cell_type": "code",
   "execution_count": 108,
   "metadata": {},
   "outputs": [],
   "source": [
    "import warnings\n",
    "warnings.filterwarnings('ignore')"
   ]
  },
  {
   "cell_type": "code",
   "execution_count": 109,
   "metadata": {},
   "outputs": [
    {
     "data": {
      "text/plain": [
       "'1.1.3'"
      ]
     },
     "execution_count": 109,
     "metadata": {},
     "output_type": "execute_result"
    }
   ],
   "source": [
    "pd.__version__"
   ]
  },
  {
   "cell_type": "code",
   "execution_count": 110,
   "metadata": {},
   "outputs": [
    {
     "data": {
      "text/plain": [
       "'1.19.2'"
      ]
     },
     "execution_count": 110,
     "metadata": {},
     "output_type": "execute_result"
    }
   ],
   "source": [
    "np.__version__"
   ]
  },
  {
   "cell_type": "code",
   "execution_count": 111,
   "metadata": {},
   "outputs": [
    {
     "data": {
      "text/plain": [
       "'0.11.0'"
      ]
     },
     "execution_count": 111,
     "metadata": {},
     "output_type": "execute_result"
    }
   ],
   "source": [
    "seaborn.__version__"
   ]
  },
  {
   "cell_type": "markdown",
   "metadata": {},
   "source": [
    "## Earthquakes"
   ]
  },
  {
   "cell_type": "code",
   "execution_count": 90,
   "metadata": {},
   "outputs": [
    {
     "data": {
      "text/plain": [
       "(6217, 39)"
      ]
     },
     "execution_count": 90,
     "metadata": {},
     "output_type": "execute_result"
    }
   ],
   "source": [
    "earthquakes = pd.read_csv('earthquakes-2021-01-19_21-44-08_-0500.tsv', sep = '\\t')\n",
    "earthquakes.shape"
   ]
  },
  {
   "cell_type": "code",
   "execution_count": 91,
   "metadata": {},
   "outputs": [
    {
     "data": {
      "text/html": [
       "<div>\n",
       "<style scoped>\n",
       "    .dataframe tbody tr th:only-of-type {\n",
       "        vertical-align: middle;\n",
       "    }\n",
       "\n",
       "    .dataframe tbody tr th {\n",
       "        vertical-align: top;\n",
       "    }\n",
       "\n",
       "    .dataframe thead th {\n",
       "        text-align: right;\n",
       "    }\n",
       "</style>\n",
       "<table border=\"1\" class=\"dataframe\">\n",
       "  <thead>\n",
       "    <tr style=\"text-align: right;\">\n",
       "      <th></th>\n",
       "      <th>Search Parameters</th>\n",
       "      <th>Year</th>\n",
       "      <th>Mo</th>\n",
       "      <th>Dy</th>\n",
       "      <th>Hr</th>\n",
       "      <th>Mn</th>\n",
       "      <th>Sec</th>\n",
       "      <th>Tsu</th>\n",
       "      <th>Vol</th>\n",
       "      <th>Location Name</th>\n",
       "      <th>...</th>\n",
       "      <th>Total Missing</th>\n",
       "      <th>Total Missing Description</th>\n",
       "      <th>Total Injuries</th>\n",
       "      <th>Total Injuries Description</th>\n",
       "      <th>Total Damage ($Mil)</th>\n",
       "      <th>Total Damage Description</th>\n",
       "      <th>Total Houses Destroyed</th>\n",
       "      <th>Total Houses Destroyed Description</th>\n",
       "      <th>Total Houses Damaged</th>\n",
       "      <th>Total Houses Damaged Description</th>\n",
       "    </tr>\n",
       "  </thead>\n",
       "  <tbody>\n",
       "    <tr>\n",
       "      <th>0</th>\n",
       "      <td>[]</td>\n",
       "      <td>NaN</td>\n",
       "      <td>NaN</td>\n",
       "      <td>NaN</td>\n",
       "      <td>NaN</td>\n",
       "      <td>NaN</td>\n",
       "      <td>NaN</td>\n",
       "      <td>NaN</td>\n",
       "      <td>NaN</td>\n",
       "      <td>NaN</td>\n",
       "      <td>...</td>\n",
       "      <td>NaN</td>\n",
       "      <td>NaN</td>\n",
       "      <td>NaN</td>\n",
       "      <td>NaN</td>\n",
       "      <td>NaN</td>\n",
       "      <td>NaN</td>\n",
       "      <td>NaN</td>\n",
       "      <td>NaN</td>\n",
       "      <td>NaN</td>\n",
       "      <td>NaN</td>\n",
       "    </tr>\n",
       "    <tr>\n",
       "      <th>1</th>\n",
       "      <td>NaN</td>\n",
       "      <td>-2150.0</td>\n",
       "      <td>NaN</td>\n",
       "      <td>NaN</td>\n",
       "      <td>NaN</td>\n",
       "      <td>NaN</td>\n",
       "      <td>0.0</td>\n",
       "      <td>NaN</td>\n",
       "      <td>NaN</td>\n",
       "      <td>JORDAN:  BAB-A-DARAA,AL-KARAK</td>\n",
       "      <td>...</td>\n",
       "      <td>NaN</td>\n",
       "      <td>NaN</td>\n",
       "      <td>NaN</td>\n",
       "      <td>NaN</td>\n",
       "      <td>NaN</td>\n",
       "      <td>NaN</td>\n",
       "      <td>NaN</td>\n",
       "      <td>NaN</td>\n",
       "      <td>NaN</td>\n",
       "      <td>NaN</td>\n",
       "    </tr>\n",
       "    <tr>\n",
       "      <th>2</th>\n",
       "      <td>NaN</td>\n",
       "      <td>-2000.0</td>\n",
       "      <td>NaN</td>\n",
       "      <td>NaN</td>\n",
       "      <td>NaN</td>\n",
       "      <td>NaN</td>\n",
       "      <td>NaN</td>\n",
       "      <td>1.0</td>\n",
       "      <td>NaN</td>\n",
       "      <td>SYRIA:  UGARIT</td>\n",
       "      <td>...</td>\n",
       "      <td>NaN</td>\n",
       "      <td>NaN</td>\n",
       "      <td>NaN</td>\n",
       "      <td>NaN</td>\n",
       "      <td>NaN</td>\n",
       "      <td>NaN</td>\n",
       "      <td>NaN</td>\n",
       "      <td>NaN</td>\n",
       "      <td>NaN</td>\n",
       "      <td>NaN</td>\n",
       "    </tr>\n",
       "    <tr>\n",
       "      <th>3</th>\n",
       "      <td>NaN</td>\n",
       "      <td>-2000.0</td>\n",
       "      <td>NaN</td>\n",
       "      <td>NaN</td>\n",
       "      <td>NaN</td>\n",
       "      <td>NaN</td>\n",
       "      <td>NaN</td>\n",
       "      <td>NaN</td>\n",
       "      <td>NaN</td>\n",
       "      <td>TURKMENISTAN:  W</td>\n",
       "      <td>...</td>\n",
       "      <td>NaN</td>\n",
       "      <td>NaN</td>\n",
       "      <td>NaN</td>\n",
       "      <td>NaN</td>\n",
       "      <td>NaN</td>\n",
       "      <td>1.0</td>\n",
       "      <td>NaN</td>\n",
       "      <td>1.0</td>\n",
       "      <td>NaN</td>\n",
       "      <td>NaN</td>\n",
       "    </tr>\n",
       "    <tr>\n",
       "      <th>4</th>\n",
       "      <td>NaN</td>\n",
       "      <td>-1610.0</td>\n",
       "      <td>NaN</td>\n",
       "      <td>NaN</td>\n",
       "      <td>NaN</td>\n",
       "      <td>NaN</td>\n",
       "      <td>NaN</td>\n",
       "      <td>3.0</td>\n",
       "      <td>1351.0</td>\n",
       "      <td>GREECE:  THERA ISLAND (SANTORINI)</td>\n",
       "      <td>...</td>\n",
       "      <td>NaN</td>\n",
       "      <td>NaN</td>\n",
       "      <td>NaN</td>\n",
       "      <td>NaN</td>\n",
       "      <td>NaN</td>\n",
       "      <td>3.0</td>\n",
       "      <td>NaN</td>\n",
       "      <td>NaN</td>\n",
       "      <td>NaN</td>\n",
       "      <td>NaN</td>\n",
       "    </tr>\n",
       "  </tbody>\n",
       "</table>\n",
       "<p>5 rows × 39 columns</p>\n",
       "</div>"
      ],
      "text/plain": [
       "  Search Parameters    Year  Mo  Dy  Hr  Mn  Sec  Tsu     Vol  \\\n",
       "0                []     NaN NaN NaN NaN NaN  NaN  NaN     NaN   \n",
       "1               NaN -2150.0 NaN NaN NaN NaN  0.0  NaN     NaN   \n",
       "2               NaN -2000.0 NaN NaN NaN NaN  NaN  1.0     NaN   \n",
       "3               NaN -2000.0 NaN NaN NaN NaN  NaN  NaN     NaN   \n",
       "4               NaN -1610.0 NaN NaN NaN NaN  NaN  3.0  1351.0   \n",
       "\n",
       "                       Location Name  ...  Total Missing  \\\n",
       "0                                NaN  ...            NaN   \n",
       "1      JORDAN:  BAB-A-DARAA,AL-KARAK  ...            NaN   \n",
       "2                     SYRIA:  UGARIT  ...            NaN   \n",
       "3                   TURKMENISTAN:  W  ...            NaN   \n",
       "4  GREECE:  THERA ISLAND (SANTORINI)  ...            NaN   \n",
       "\n",
       "   Total Missing Description  Total Injuries  Total Injuries Description  \\\n",
       "0                        NaN             NaN                         NaN   \n",
       "1                        NaN             NaN                         NaN   \n",
       "2                        NaN             NaN                         NaN   \n",
       "3                        NaN             NaN                         NaN   \n",
       "4                        NaN             NaN                         NaN   \n",
       "\n",
       "   Total Damage ($Mil)  Total Damage Description  Total Houses Destroyed  \\\n",
       "0                  NaN                       NaN                     NaN   \n",
       "1                  NaN                       NaN                     NaN   \n",
       "2                  NaN                       NaN                     NaN   \n",
       "3                  NaN                       1.0                     NaN   \n",
       "4                  NaN                       3.0                     NaN   \n",
       "\n",
       "   Total Houses Destroyed Description  Total Houses Damaged  \\\n",
       "0                                 NaN                   NaN   \n",
       "1                                 NaN                   NaN   \n",
       "2                                 NaN                   NaN   \n",
       "3                                 1.0                   NaN   \n",
       "4                                 NaN                   NaN   \n",
       "\n",
       "   Total Houses Damaged Description  \n",
       "0                               NaN  \n",
       "1                               NaN  \n",
       "2                               NaN  \n",
       "3                               NaN  \n",
       "4                               NaN  \n",
       "\n",
       "[5 rows x 39 columns]"
      ]
     },
     "execution_count": 91,
     "metadata": {},
     "output_type": "execute_result"
    }
   ],
   "source": [
    "earthquakes.head()"
   ]
  },
  {
   "cell_type": "code",
   "execution_count": 92,
   "metadata": {},
   "outputs": [
    {
     "data": {
      "text/plain": [
       "Index(['Search Parameters', 'Year', 'Mo', 'Dy', 'Hr', 'Mn', 'Sec', 'Tsu',\n",
       "       'Vol', 'Location Name', 'Latitude', 'Longitude', 'Focal Depth (km)',\n",
       "       'Mag', 'MMI Int', 'Deaths', 'Death Description', 'Missing',\n",
       "       'Missing Description', 'Injuries', 'Injuries Description',\n",
       "       'Damage ($Mil)', 'Damage Description', 'Houses Destroyed',\n",
       "       'Houses Destroyed Description', 'Houses Damaged',\n",
       "       'Houses Damaged Description', 'Total Deaths', 'Total Death Description',\n",
       "       'Total Missing', 'Total Missing Description', 'Total Injuries',\n",
       "       'Total Injuries Description', 'Total Damage ($Mil)',\n",
       "       'Total Damage Description', 'Total Houses Destroyed',\n",
       "       'Total Houses Destroyed Description', 'Total Houses Damaged',\n",
       "       'Total Houses Damaged Description'],\n",
       "      dtype='object')"
      ]
     },
     "execution_count": 92,
     "metadata": {},
     "output_type": "execute_result"
    }
   ],
   "source": [
    "earthquakes.columns"
   ]
  },
  {
   "cell_type": "markdown",
   "metadata": {},
   "source": [
    "Cantidad de nulos por columna"
   ]
  },
  {
   "cell_type": "code",
   "execution_count": 93,
   "metadata": {},
   "outputs": [],
   "source": [
    "earthquakes = earthquakes[earthquakes['Search Parameters'].isnull()]\n",
    "earthquakes = earthquakes.drop('Search Parameters', axis = 1)"
   ]
  },
  {
   "cell_type": "code",
   "execution_count": 94,
   "metadata": {},
   "outputs": [
    {
     "data": {
      "text/plain": [
       "Year                                     0\n",
       "Mo                                     408\n",
       "Dy                                     562\n",
       "Hr                                    2043\n",
       "Mn                                    2247\n",
       "Sec                                   1848\n",
       "Tsu                                   4345\n",
       "Vol                                   6148\n",
       "Location Name                            1\n",
       "Latitude                                48\n",
       "Longitude                               48\n",
       "Focal Depth (km)                      2964\n",
       "Mag                                   1790\n",
       "MMI Int                               3362\n",
       "Deaths                                4143\n",
       "Death Description                     3660\n",
       "Missing                               6195\n",
       "Missing Description                   6195\n",
       "Injuries                              4967\n",
       "Injuries Description                  4779\n",
       "Damage ($Mil)                         5704\n",
       "Damage Description                    1759\n",
       "Houses Destroyed                      5428\n",
       "Houses Destroyed Description          4503\n",
       "Houses Damaged                        5724\n",
       "Houses Damaged Description            5269\n",
       "Total Deaths                          4501\n",
       "Total Death Description               4160\n",
       "Total Missing                         6191\n",
       "Total Missing Description             6190\n",
       "Total Injuries                        4952\n",
       "Total Injuries Description            4765\n",
       "Total Damage ($Mil)                   5758\n",
       "Total Damage Description              2894\n",
       "Total Houses Destroyed                5397\n",
       "Total Houses Destroyed Description    4423\n",
       "Total Houses Damaged                  5785\n",
       "Total Houses Damaged Description      5387\n",
       "dtype: int64"
      ]
     },
     "execution_count": 94,
     "metadata": {},
     "output_type": "execute_result"
    }
   ],
   "source": [
    "earthquakes.isnull().sum()"
   ]
  },
  {
   "cell_type": "code",
   "execution_count": 95,
   "metadata": {},
   "outputs": [
    {
     "data": {
      "text/html": [
       "<div>\n",
       "<style scoped>\n",
       "    .dataframe tbody tr th:only-of-type {\n",
       "        vertical-align: middle;\n",
       "    }\n",
       "\n",
       "    .dataframe tbody tr th {\n",
       "        vertical-align: top;\n",
       "    }\n",
       "\n",
       "    .dataframe thead th {\n",
       "        text-align: right;\n",
       "    }\n",
       "</style>\n",
       "<table border=\"1\" class=\"dataframe\">\n",
       "  <thead>\n",
       "    <tr style=\"text-align: right;\">\n",
       "      <th></th>\n",
       "      <th>Year</th>\n",
       "      <th>Mo</th>\n",
       "      <th>Dy</th>\n",
       "      <th>Hr</th>\n",
       "      <th>Mn</th>\n",
       "      <th>Sec</th>\n",
       "      <th>Tsu</th>\n",
       "      <th>Vol</th>\n",
       "      <th>Location Name</th>\n",
       "      <th>Latitude</th>\n",
       "      <th>...</th>\n",
       "      <th>Total Missing</th>\n",
       "      <th>Total Missing Description</th>\n",
       "      <th>Total Injuries</th>\n",
       "      <th>Total Injuries Description</th>\n",
       "      <th>Total Damage ($Mil)</th>\n",
       "      <th>Total Damage Description</th>\n",
       "      <th>Total Houses Destroyed</th>\n",
       "      <th>Total Houses Destroyed Description</th>\n",
       "      <th>Total Houses Damaged</th>\n",
       "      <th>Total Houses Damaged Description</th>\n",
       "    </tr>\n",
       "  </thead>\n",
       "  <tbody>\n",
       "    <tr>\n",
       "      <th>2041</th>\n",
       "      <td>1868.0</td>\n",
       "      <td>10.0</td>\n",
       "      <td>18.0</td>\n",
       "      <td>12.0</td>\n",
       "      <td>35.0</td>\n",
       "      <td>NaN</td>\n",
       "      <td>5508.0</td>\n",
       "      <td>NaN</td>\n",
       "      <td>NaN</td>\n",
       "      <td>-40.2</td>\n",
       "      <td>...</td>\n",
       "      <td>NaN</td>\n",
       "      <td>NaN</td>\n",
       "      <td>NaN</td>\n",
       "      <td>NaN</td>\n",
       "      <td>NaN</td>\n",
       "      <td>NaN</td>\n",
       "      <td>NaN</td>\n",
       "      <td>NaN</td>\n",
       "      <td>NaN</td>\n",
       "      <td>NaN</td>\n",
       "    </tr>\n",
       "  </tbody>\n",
       "</table>\n",
       "<p>1 rows × 38 columns</p>\n",
       "</div>"
      ],
      "text/plain": [
       "        Year    Mo    Dy    Hr    Mn  Sec     Tsu  Vol Location Name  \\\n",
       "2041  1868.0  10.0  18.0  12.0  35.0  NaN  5508.0  NaN           NaN   \n",
       "\n",
       "      Latitude  ...  Total Missing  Total Missing Description  Total Injuries  \\\n",
       "2041     -40.2  ...            NaN                        NaN             NaN   \n",
       "\n",
       "      Total Injuries Description  Total Damage ($Mil)  \\\n",
       "2041                         NaN                  NaN   \n",
       "\n",
       "      Total Damage Description  Total Houses Destroyed  \\\n",
       "2041                       NaN                     NaN   \n",
       "\n",
       "      Total Houses Destroyed Description  Total Houses Damaged  \\\n",
       "2041                                 NaN                   NaN   \n",
       "\n",
       "      Total Houses Damaged Description  \n",
       "2041                               NaN  \n",
       "\n",
       "[1 rows x 38 columns]"
      ]
     },
     "execution_count": 95,
     "metadata": {},
     "output_type": "execute_result"
    }
   ],
   "source": [
    "earthquakes[earthquakes['Location Name'].isnull()]"
   ]
  },
  {
   "cell_type": "markdown",
   "metadata": {},
   "source": [
    "Periodo de análisis"
   ]
  },
  {
   "cell_type": "code",
   "execution_count": 96,
   "metadata": {},
   "outputs": [
    {
     "data": {
      "text/plain": [
       "(-2150.0, 2021.0)"
      ]
     },
     "execution_count": 96,
     "metadata": {},
     "output_type": "execute_result"
    }
   ],
   "source": [
    "earthquakes['Year'].min(), earthquakes['Year'].max()"
   ]
  },
  {
   "cell_type": "markdown",
   "metadata": {},
   "source": [
    "Años negativos"
   ]
  },
  {
   "cell_type": "code",
   "execution_count": 97,
   "metadata": {},
   "outputs": [],
   "source": [
    "earthquakes['Era'] = np.where(earthquakes['Year'] < 0, 'AC', 'BC')"
   ]
  },
  {
   "cell_type": "code",
   "execution_count": 98,
   "metadata": {},
   "outputs": [
    {
     "data": {
      "text/plain": [
       "0"
      ]
     },
     "execution_count": 98,
     "metadata": {},
     "output_type": "execute_result"
    }
   ],
   "source": [
    "earthquakes['Era'].isnull().sum()"
   ]
  },
  {
   "cell_type": "code",
   "execution_count": 99,
   "metadata": {},
   "outputs": [
    {
     "data": {
      "text/plain": [
       "BC    6167\n",
       "AC      49\n",
       "Name: Era, dtype: int64"
      ]
     },
     "execution_count": 99,
     "metadata": {},
     "output_type": "execute_result"
    }
   ],
   "source": [
    "earthquakes['Era'].value_counts()"
   ]
  },
  {
   "cell_type": "markdown",
   "metadata": {},
   "source": [
    "Décadas y siglos"
   ]
  },
  {
   "cell_type": "code",
   "execution_count": 100,
   "metadata": {},
   "outputs": [],
   "source": [
    "earthquakes['Decade'] = (earthquakes['Year'] / 10).astype('int')\n",
    "earthquakes['Century'] = (earthquakes['Year'] // 100).astype('int') + 1"
   ]
  },
  {
   "cell_type": "markdown",
   "metadata": {},
   "source": [
    "Siglo 21"
   ]
  },
  {
   "cell_type": "code",
   "execution_count": 101,
   "metadata": {},
   "outputs": [],
   "source": [
    "earthquake_21 = earthquakes.query('Century >= 20')"
   ]
  },
  {
   "cell_type": "code",
   "execution_count": 102,
   "metadata": {},
   "outputs": [
    {
     "data": {
      "text/plain": [
       "(3741, 41)"
      ]
     },
     "execution_count": 102,
     "metadata": {},
     "output_type": "execute_result"
    }
   ],
   "source": [
    "earthquake_21.shape"
   ]
  },
  {
   "cell_type": "code",
   "execution_count": 103,
   "metadata": {},
   "outputs": [
    {
     "data": {
      "text/plain": [
       "Year                                     0\n",
       "Mo                                       7\n",
       "Dy                                      12\n",
       "Hr                                     193\n",
       "Mn                                     221\n",
       "Sec                                    264\n",
       "Tsu                                   2698\n",
       "Vol                                   3714\n",
       "Location Name                            0\n",
       "Latitude                                 6\n",
       "Longitude                                6\n",
       "Focal Depth (km)                       716\n",
       "Mag                                    308\n",
       "MMI Int                               2262\n",
       "Deaths                                2277\n",
       "Death Description                     2179\n",
       "Missing                               3721\n",
       "Missing Description                   3722\n",
       "Injuries                              2556\n",
       "Injuries Description                  2400\n",
       "Damage ($Mil)                         3242\n",
       "Damage Description                    1007\n",
       "Houses Destroyed                      3102\n",
       "Houses Destroyed Description          2651\n",
       "Houses Damaged                        3280\n",
       "Houses Damaged Description            2935\n",
       "Total Deaths                          2489\n",
       "Total Death Description               2417\n",
       "Total Missing                         3717\n",
       "Total Missing Description             3716\n",
       "Total Injuries                        2544\n",
       "Total Injuries Description            2390\n",
       "Total Damage ($Mil)                   3289\n",
       "Total Damage Description              1448\n",
       "Total Houses Destroyed                3087\n",
       "Total Houses Destroyed Description    2622\n",
       "Total Houses Damaged                  3323\n",
       "Total Houses Damaged Description      3000\n",
       "Era                                      0\n",
       "Decade                                   0\n",
       "Century                                  0\n",
       "dtype: int64"
      ]
     },
     "execution_count": 103,
     "metadata": {},
     "output_type": "execute_result"
    }
   ],
   "source": [
    "earthquake_21.isnull().sum()"
   ]
  },
  {
   "cell_type": "code",
   "execution_count": 104,
   "metadata": {},
   "outputs": [
    {
     "data": {
      "text/html": [
       "<div>\n",
       "<style scoped>\n",
       "    .dataframe tbody tr th:only-of-type {\n",
       "        vertical-align: middle;\n",
       "    }\n",
       "\n",
       "    .dataframe tbody tr th {\n",
       "        vertical-align: top;\n",
       "    }\n",
       "\n",
       "    .dataframe thead th {\n",
       "        text-align: right;\n",
       "    }\n",
       "</style>\n",
       "<table border=\"1\" class=\"dataframe\">\n",
       "  <thead>\n",
       "    <tr style=\"text-align: right;\">\n",
       "      <th></th>\n",
       "      <th>Location Name</th>\n",
       "    </tr>\n",
       "  </thead>\n",
       "  <tbody>\n",
       "    <tr>\n",
       "      <th>2476</th>\n",
       "      <td>INDONESIA:  GALELA (HALMAHERA ISLAND)</td>\n",
       "    </tr>\n",
       "    <tr>\n",
       "      <th>2477</th>\n",
       "      <td>JAPAN:  SEA OF JAPAN</td>\n",
       "    </tr>\n",
       "    <tr>\n",
       "      <th>2478</th>\n",
       "      <td>INDONESIA:  JAVA:  SUKABUMI</td>\n",
       "    </tr>\n",
       "    <tr>\n",
       "      <th>2479</th>\n",
       "      <td>MEXICO</td>\n",
       "    </tr>\n",
       "    <tr>\n",
       "      <th>2480</th>\n",
       "      <td>MEXICO:  NEAR COAST OF JALISCO</td>\n",
       "    </tr>\n",
       "    <tr>\n",
       "      <th>...</th>\n",
       "      <td>...</td>\n",
       "    </tr>\n",
       "    <tr>\n",
       "      <th>6212</th>\n",
       "      <td>ALASKA</td>\n",
       "    </tr>\n",
       "    <tr>\n",
       "      <th>6213</th>\n",
       "      <td>GREECE:  SAMOS; TURKEY:  IZMIR</td>\n",
       "    </tr>\n",
       "    <tr>\n",
       "      <th>6214</th>\n",
       "      <td>CHILE:  OFF COAST CENTRAL</td>\n",
       "    </tr>\n",
       "    <tr>\n",
       "      <th>6215</th>\n",
       "      <td>BALKANS NW:  CROATIA:  PETRINJA</td>\n",
       "    </tr>\n",
       "    <tr>\n",
       "      <th>6216</th>\n",
       "      <td>INDONESIA:  SULAWESI:  MAMUJU, MAJENE</td>\n",
       "    </tr>\n",
       "  </tbody>\n",
       "</table>\n",
       "<p>3741 rows × 1 columns</p>\n",
       "</div>"
      ],
      "text/plain": [
       "                              Location Name\n",
       "2476  INDONESIA:  GALELA (HALMAHERA ISLAND)\n",
       "2477                   JAPAN:  SEA OF JAPAN\n",
       "2478            INDONESIA:  JAVA:  SUKABUMI\n",
       "2479                                 MEXICO\n",
       "2480         MEXICO:  NEAR COAST OF JALISCO\n",
       "...                                     ...\n",
       "6212                                 ALASKA\n",
       "6213         GREECE:  SAMOS; TURKEY:  IZMIR\n",
       "6214              CHILE:  OFF COAST CENTRAL\n",
       "6215        BALKANS NW:  CROATIA:  PETRINJA\n",
       "6216  INDONESIA:  SULAWESI:  MAMUJU, MAJENE\n",
       "\n",
       "[3741 rows x 1 columns]"
      ]
     },
     "execution_count": 104,
     "metadata": {},
     "output_type": "execute_result"
    }
   ],
   "source": [
    "earthquake_21[['Location Name']]"
   ]
  },
  {
   "cell_type": "markdown",
   "metadata": {},
   "source": [
    "Countries with more earthquakes since 1900"
   ]
  },
  {
   "cell_type": "code",
   "execution_count": 130,
   "metadata": {},
   "outputs": [],
   "source": [
    "earthquake_21['Country'] = earthquake_21['Location Name'].str.split(':', expand = True)[0]"
   ]
  },
  {
   "cell_type": "code",
   "execution_count": 131,
   "metadata": {},
   "outputs": [
    {
     "data": {
      "text/plain": [
       "CHINA                      362\n",
       "INDONESIA                  283\n",
       "IRAN                       218\n",
       "JAPAN                      212\n",
       "TURKEY                     169\n",
       "                          ... \n",
       "NORTH CAROLINA               1\n",
       "PAKISTAN-NW AFGHANISTAN      1\n",
       "COMOROS                      1\n",
       "ALABAMA                      1\n",
       "PORTUGAL                     1\n",
       "Name: Country, Length: 252, dtype: int64"
      ]
     },
     "execution_count": 131,
     "metadata": {},
     "output_type": "execute_result"
    }
   ],
   "source": [
    "counts = earthquake_21['Country'].value_counts()\n",
    "counts"
   ]
  },
  {
   "cell_type": "code",
   "execution_count": 132,
   "metadata": {},
   "outputs": [
    {
     "data": {
      "text/plain": [
       "Index(['CHINA', 'INDONESIA', 'IRAN', 'JAPAN', 'TURKEY', 'ITALY', 'PHILIPPINES',\n",
       "       'RUSSIA', 'CHILE', 'PERU'],\n",
       "      dtype='object')"
      ]
     },
     "execution_count": 132,
     "metadata": {},
     "output_type": "execute_result"
    }
   ],
   "source": [
    "list_countries = counts.iloc[:10]\n",
    "list_countries.index"
   ]
  },
  {
   "cell_type": "markdown",
   "metadata": {},
   "source": [
    "Countries with more earthquakes"
   ]
  },
  {
   "cell_type": "code",
   "execution_count": 141,
   "metadata": {},
   "outputs": [
    {
     "data": {
      "text/plain": [
       "<AxesSubplot:>"
      ]
     },
     "execution_count": 141,
     "metadata": {},
     "output_type": "execute_result"
    },
    {
     "data": {
      "image/png": "[encoded data removed]",
      "text/plain": [
       "<Figure size 432x288 with 1 Axes>"
      ]
     },
     "metadata": {
      "needs_background": "light"
     },
     "output_type": "display_data"
    }
   ],
   "source": [
    "counts.head(10).plot.bar()"
   ]
  },
  {
   "cell_type": "markdown",
   "metadata": {},
   "source": [
    "Damage evaluation"
   ]
  },
  {
   "cell_type": "code",
   "execution_count": 146,
   "metadata": {},
   "outputs": [
    {
     "data": {
      "text/plain": [
       "Index(['Year', 'Mo', 'Dy', 'Hr', 'Mn', 'Sec', 'Tsu', 'Vol', 'Location Name',\n",
       "       'Latitude', 'Longitude', 'Focal Depth (km)', 'Mag', 'MMI Int', 'Deaths',\n",
       "       'Death Description', 'Missing', 'Missing Description', 'Injuries',\n",
       "       'Injuries Description', 'Damage ($Mil)', 'Damage Description',\n",
       "       'Houses Destroyed', 'Houses Destroyed Description', 'Houses Damaged',\n",
       "       'Houses Damaged Description', 'Total Deaths', 'Total Death Description',\n",
       "       'Total Missing', 'Total Missing Description', 'Total Injuries',\n",
       "       'Total Injuries Description', 'Total Damage ($Mil)',\n",
       "       'Total Damage Description', 'Total Houses Destroyed',\n",
       "       'Total Houses Destroyed Description', 'Total Houses Damaged',\n",
       "       'Total Houses Damaged Description', 'Era', 'Decade', 'Century',\n",
       "       'Country'],\n",
       "      dtype='object')"
      ]
     },
     "execution_count": 146,
     "metadata": {},
     "output_type": "execute_result"
    }
   ],
   "source": [
    "earthquake_21.columns"
   ]
  },
  {
   "cell_type": "code",
   "execution_count": 147,
   "metadata": {},
   "outputs": [],
   "source": [
    "damage_columns = ['Total Deaths', 'Total Death Description',\n",
    "       'Total Missing', 'Total Missing Description', 'Total Injuries',\n",
    "       'Total Injuries Description', 'Total Damage ($Mil)',\n",
    "       'Total Damage Description', 'Total Houses Destroyed',\n",
    "       'Total Houses Destroyed Description', 'Total Houses Damaged',\n",
    "       'Total Houses Damaged Description']"
   ]
  },
  {
   "cell_type": "code",
   "execution_count": 150,
   "metadata": {},
   "outputs": [],
   "source": [
    "earthquake_damage = earthquake_21.get(damage_columns)"
   ]
  },
  {
   "cell_type": "code",
   "execution_count": 151,
   "metadata": {},
   "outputs": [
    {
     "name": "stdout",
     "output_type": "stream",
     "text": [
      "<class 'pandas.core.frame.DataFrame'>\n",
      "Int64Index: 3741 entries, 2476 to 6216\n",
      "Data columns (total 12 columns):\n",
      " #   Column                              Non-Null Count  Dtype  \n",
      "---  ------                              --------------  -----  \n",
      " 0   Total Deaths                        1252 non-null   float64\n",
      " 1   Total Death Description             1324 non-null   float64\n",
      " 2   Total Missing                       24 non-null     float64\n",
      " 3   Total Missing Description           25 non-null     float64\n",
      " 4   Total Injuries                      1197 non-null   float64\n",
      " 5   Total Injuries Description          1351 non-null   float64\n",
      " 6   Total Damage ($Mil)                 452 non-null    float64\n",
      " 7   Total Damage Description            2293 non-null   float64\n",
      " 8   Total Houses Destroyed              654 non-null    float64\n",
      " 9   Total Houses Destroyed Description  1119 non-null   float64\n",
      " 10  Total Houses Damaged                418 non-null    float64\n",
      " 11  Total Houses Damaged Description    741 non-null    float64\n",
      "dtypes: float64(12)\n",
      "memory usage: 539.9 KB\n"
     ]
    }
   ],
   "source": [
    "earthquake_damage.info()"
   ]
  },
  {
   "cell_type": "code",
   "execution_count": 153,
   "metadata": {},
   "outputs": [
    {
     "data": {
      "text/plain": [
       "Total Deaths                          0.665330\n",
       "Total Death Description               0.646084\n",
       "Total Missing                         0.993585\n",
       "Total Missing Description             0.993317\n",
       "Total Injuries                        0.680032\n",
       "Total Injuries Description            0.638867\n",
       "Total Damage ($Mil)                   0.879177\n",
       "Total Damage Description              0.387062\n",
       "Total Houses Destroyed                0.825180\n",
       "Total Houses Destroyed Description    0.700882\n",
       "Total Houses Damaged                  0.888265\n",
       "Total Houses Damaged Description      0.801925\n",
       "dtype: float64"
      ]
     },
     "execution_count": 153,
     "metadata": {},
     "output_type": "execute_result"
    }
   ],
   "source": [
    "earthquake_damage.isnull().mean()"
   ]
  },
  {
   "cell_type": "code",
   "execution_count": null,
   "metadata": {},
   "outputs": [],
   "source": [
    "seaborn.pairplot(earthquake_damage)"
   ]
  },
  {
   "cell_type": "code",
   "execution_count": null,
   "metadata": {},
   "outputs": [],
   "source": []
  },
  {
   "cell_type": "code",
   "execution_count": null,
   "metadata": {},
   "outputs": [],
   "source": []
  },
  {
   "cell_type": "code",
   "execution_count": null,
   "metadata": {},
   "outputs": [],
   "source": []
  },
  {
   "cell_type": "code",
   "execution_count": null,
   "metadata": {},
   "outputs": [],
   "source": []
  },
  {
   "cell_type": "code",
   "execution_count": null,
   "metadata": {},
   "outputs": [],
   "source": []
  },
  {
   "cell_type": "code",
   "execution_count": null,
   "metadata": {},
   "outputs": [],
   "source": []
  },
  {
   "cell_type": "code",
   "execution_count": null,
   "metadata": {},
   "outputs": [],
   "source": []
  }
 ],
 "metadata": {
  "kernelspec": {
   "display_name": "iapucp",
   "language": "python",
   "name": "iapucp"
  },
  "language_info": {
   "codemirror_mode": {
    "name": "ipython",
    "version": 3
   },
   "file_extension": ".py",
   "mimetype": "text/x-python",
   "name": "python",
   "nbconvert_exporter": "python",
   "pygments_lexer": "ipython3",
   "version": "3.6.12"
  }
 },
 "nbformat": 4,
 "nbformat_minor": 4
}
